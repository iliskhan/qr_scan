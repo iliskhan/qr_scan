{
 "cells": [
  {
   "cell_type": "code",
   "execution_count": null,
   "metadata": {},
   "outputs": [],
   "source": [
    "import os\n",
    "import cv2\n",
    "import imutils\n",
    "\n",
    "from pyzbar import pyzbar\n",
    "from matplotlib import pyplot as plt\n",
    "\n",
    "%matplotlib inline"
   ]
  },
  {
   "cell_type": "code",
   "execution_count": null,
   "metadata": {},
   "outputs": [],
   "source": [
    "imgs_dir = 'images'\n",
    "imgs = os.listdir(imgs_dir)"
   ]
  },
  {
   "cell_type": "code",
   "execution_count": null,
   "metadata": {},
   "outputs": [],
   "source": [
    "for img_name in imgs:\n",
    "    img = cv2.imread(os.path.join(imgs_dir,img_name))\n",
    "    img = imutils.resize(img, height=800)\n",
    "    \n",
    "    barcodes = pyzbar.decode(img)\n",
    "    \n",
    "    for barcode in barcodes:\n",
    "        x,y,w,h = barcode.rect\n",
    "        cv2.rectangle(img, (x,y), (x+w, y+h), (0,0,255),2)\n",
    "        data = barcode.data.decode(\"utf-8\")\n",
    "        \n",
    "        cv2.putText(img, data, (x, y-10), cv2.FONT_HERSHEY_SIMPLEX, 0.7, (0,0,255), 2)\n",
    "        img = img[:,:,::-1]\n",
    "        \n",
    "        plt.figure(figsize=(10, 10), dpi= 100)\n",
    "        plt.imshow(img)\n",
    "        plt.show()"
   ]
  },
  {
   "cell_type": "code",
   "execution_count": null,
   "metadata": {},
   "outputs": [],
   "source": []
  }
 ],
 "metadata": {
  "kernelspec": {
   "display_name": "Python 3",
   "language": "python",
   "name": "python3"
  },
  "language_info": {
   "codemirror_mode": {
    "name": "ipython",
    "version": 3
   },
   "file_extension": ".py",
   "mimetype": "text/x-python",
   "name": "python",
   "nbconvert_exporter": "python",
   "pygments_lexer": "ipython3",
   "version": "3.7.3"
  }
 },
 "nbformat": 4,
 "nbformat_minor": 2
}
