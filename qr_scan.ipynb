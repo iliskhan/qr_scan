{
 "cells": [
  {
   "cell_type": "code",
   "execution_count": null,
   "metadata": {},
   "outputs": [],
   "source": [
    "import os\n",
    "import cv2\n",
    "import imutils\n",
    "\n",
    "from pyzbar import pyzbar\n",
    "from matplotlib import pyplot as plt\n",
    "\n",
    "%matplotlib inline"
   ]
  },
  {
   "cell_type": "code",
   "execution_count": null,
   "metadata": {},
   "outputs": [],
   "source": [
    "def find_qr(img, show=False):\n",
    "    barcodes = pyzbar.decode(img)\n",
    "    \n",
    "    for barcode in barcodes:\n",
    "        x,y,w,h = barcode.rect\n",
    "        cv2.rectangle(img, (x,y), (x+w, y+h), (0,0,255),2)\n",
    "        data = barcode.data.decode(\"utf-8\")\n",
    "        \n",
    "        cv2.putText(img, data, (x, y-10), cv2.FONT_HERSHEY_SIMPLEX, 0.7, (0,0,255), 2)\n",
    "        \n",
    "    if show:\n",
    "        t_img = cv2.cvtColor(img, cv2.COLOR_BGR2RGB)\n",
    "        \n",
    "        plt.figure(figsize=(10, 10), dpi= 100)\n",
    "        plt.imshow(t_img)\n",
    "        plt.show()\n",
    "    \n",
    "    return img, barcode"
   ]
  },
  {
   "cell_type": "code",
   "execution_count": null,
   "metadata": {},
   "outputs": [],
   "source": [
    "def extract_roi(img, barcode, points, scale=0.5, show=False):\n",
    "    x, y = points\n",
    "    h, w = img.shape[:2]\n",
    "    \n",
    "    _x,_y,_w,_h = barcode.rect\n",
    "    cx, cy = round(_x + _w/2), round(_y + _h/2)\n",
    "    offset_x, offset_y = cx+x, cy+y\n",
    "    \n",
    "    sw, sh = round((_w * scale)/2), round((_h * scale)/2)\n",
    "    \n",
    "    if offset_x > w or offset_y > h:\n",
    "        raise Exception('Выход за пределы изображения')\n",
    "    \n",
    "    x, x1, y, y1 = offset_x-sw, offset_x+sw, offset_y-sh, offset_y+sh\n",
    "    \n",
    "    roi = img[y:y1, x:x1]\n",
    "    \n",
    "    cv2.rectangle(img, (x,y), (x1, y1), (0,0,255),2)\n",
    "    \n",
    "    if show:\n",
    "        t_img = cv2.cvtColor(img, cv2.COLOR_BGR2RGB)\n",
    "        \n",
    "        plt.figure(figsize=(10, 10), dpi= 100)\n",
    "        plt.imshow(t_img)\n",
    "        plt.show()\n",
    "    return roi"
   ]
  },
  {
   "cell_type": "code",
   "execution_count": null,
   "metadata": {},
   "outputs": [],
   "source": [
    "imgs_dir = 'images'\n",
    "imgs = os.listdir(imgs_dir)"
   ]
  },
  {
   "cell_type": "code",
   "execution_count": null,
   "metadata": {},
   "outputs": [],
   "source": [
    "\n",
    "for img_name in imgs:\n",
    "    img = cv2.imread(os.path.join(imgs_dir,img_name))\n",
    "    img = imutils.resize(img, height=800)\n",
    "    img, barcode = find_qr(img)\n",
    "    \n",
    "    extract_roi(img, barcode, (200, 100), show=True)"
   ]
  },
  {
   "cell_type": "code",
   "execution_count": null,
   "metadata": {},
   "outputs": [],
   "source": [
    "import qrcode\n",
    "import numpy as np"
   ]
  },
  {
   "cell_type": "code",
   "execution_count": null,
   "metadata": {},
   "outputs": [],
   "source": [
    "def make_qr(text):\n",
    "\n",
    "    qr = qrcode.make(text)\n",
    "    data = qr.getdata()\n",
    "    np_data = np.array(data, dtype=np.uint8)\n",
    "    qr_img = np.reshape(np_data,qr.size)\n",
    "\n",
    "    qr_img = cv2.cvtColor(qr_img, cv2.COLOR_GRAY2BGR)\n",
    "    \n",
    "    return qr_img"
   ]
  },
  {
   "cell_type": "code",
   "execution_count": null,
   "metadata": {},
   "outputs": [],
   "source": [
    "img = make_qr('text to test')\n",
    "find_qr(img, show=True)"
   ]
  }
 ],
 "metadata": {
  "kernelspec": {
   "display_name": "Python 3",
   "language": "python",
   "name": "python3"
  },
  "language_info": {
   "codemirror_mode": {
    "name": "ipython",
    "version": 3
   },
   "file_extension": ".py",
   "mimetype": "text/x-python",
   "name": "python",
   "nbconvert_exporter": "python",
   "pygments_lexer": "ipython3",
   "version": "3.7.3"
  }
 },
 "nbformat": 4,
 "nbformat_minor": 2
}
